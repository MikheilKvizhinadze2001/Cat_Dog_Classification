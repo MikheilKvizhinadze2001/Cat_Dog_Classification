{
 "cells": [
  {
   "cell_type": "markdown",
   "id": "26fc0c5f-5835-4ebc-a6ad-24cba0888025",
   "metadata": {},
   "source": [
    "# Image Classification. Cats vs Dogs"
   ]
  },
  {
   "cell_type": "markdown",
   "id": "0e59abb3-bd24-442d-8dc4-f590553fed9c",
   "metadata": {},
   "source": [
    "## Part 1\n",
    "### In the initial phase of the project, I employed traditional machine learning techniques for classification, specifically leveraging the scikit-learn library"
   ]
  },
  {
   "cell_type": "markdown",
   "id": "d15b5648-c1ed-45ec-978b-7b1dc1587a4f",
   "metadata": {},
   "source": [
    "In the first part of this project, it is attempted to classify images of dogs and cats using logistic regression and random forest.\n",
    "Let us see how they perform!"
   ]
  },
  {
   "cell_type": "code",
   "execution_count": 1,
   "id": "3b83289c-6774-4db3-96bf-4827f2a74621",
   "metadata": {},
   "outputs": [],
   "source": [
    "# Importing necessary libraries\n",
    "import os\n",
    "import cv2\n",
    "import numpy as np\n",
    "import pandas as pd\n",
    "from sklearn.model_selection import train_test_split\n",
    "\n"
   ]
  },
  {
   "cell_type": "code",
   "execution_count": 2,
   "id": "2d10e10e-1a23-4719-b856-f95bbf5f6eef",
   "metadata": {},
   "outputs": [],
   "source": [
    "#Loading dataset\n",
    "\n",
    "def load_images_from_folder(folder):\n",
    "    images = []\n",
    "    for filename in os.listdir(folder):\n",
    "        img = cv2.imread(os.path.join(folder, filename))\n",
    "        if img is not None:\n",
    "            images.append(img)\n",
    "    return images\n",
    "\n",
    "dogs = load_images_from_folder('C:/Users/mikhe/OneDrive/Desktop/Dog')\n",
    "cats = load_images_from_folder('C:/Users/mikhe/OneDrive/Desktop/Cat')\n"
   ]
  },
  {
   "cell_type": "code",
   "execution_count": 3,
   "id": "bb256bf8-90d6-47f5-9efd-865698b2557a",
   "metadata": {},
   "outputs": [],
   "source": [
    "dogs_labels = [1 for _ in range(len(dogs))]\n",
    "cats_labels = [0 for _ in range(len(cats))]\n"
   ]
  },
  {
   "cell_type": "markdown",
   "id": "344ebce7-91cf-4c02-b4ff-becbcb81abdf",
   "metadata": {},
   "source": [
    "#### Next three cells will resize, flatten and normilize images.\n",
    "\n",
    "__Resizing__ : Resizing images to a consistent size ensures that all input images have the same dimensions.\n",
    "Fixed-size inputs allow for more efficient processing during training and inference,\n",
    "as the model's architecture is designed to handle a specific input size.\n",
    "\n",
    "__Flattening__ : Flattening converts the 2D or 3D image arrays into a 1D vector. This process is necessary when using fully connected layers in neural networks. It simplifies model design, making it easier to connect the output of convolutional layers to fully connected layers.\n",
    "\n",
    "__Normalizing__ : Normalizing pixel values to a specific range (e.g., [0,1] in our case) helping the model converge faster during training. It prevents one feature (pixel) from dominating others, improving the stability of the optimization process.It also reduces the impact of varying lighting conditions across images, making the model more robust to changes in brightness and contrast.Normalizing images aids in better generalization across diverse datasets by ensuring that the model focuses on learning patterns rather than being sensitive to absolute pixel values."
   ]
  },
  {
   "cell_type": "code",
   "execution_count": 4,
   "id": "71fac329-a03a-4345-af57-f1410f08cb3c",
   "metadata": {},
   "outputs": [],
   "source": [
    "def resize_images(images, size=(64, 64)):\n",
    "    return [cv2.resize(image, size) for image in images]\n",
    "\n",
    "dogs = resize_images(dogs)\n",
    "cats = resize_images(cats)"
   ]
  },
  {
   "cell_type": "code",
   "execution_count": 5,
   "id": "18ce2e2b-5054-4cee-8b22-af364c4e01b9",
   "metadata": {},
   "outputs": [],
   "source": [
    "def flatten_images(images):\n",
    "    return [image.flatten() for image in images]\n",
    "\n",
    "dogs = flatten_images(dogs)\n",
    "cats = flatten_images(cats)"
   ]
  },
  {
   "cell_type": "code",
   "execution_count": 6,
   "id": "2db49564-6ad7-4f3f-a73c-f809a1f83e51",
   "metadata": {},
   "outputs": [],
   "source": [
    "def normalize_images(images):\n",
    "    return [image/255 for image in images]\n",
    "\n",
    "dogs = normalize_images(dogs)\n",
    "cats = normalize_images(cats)"
   ]
  },
  {
   "cell_type": "markdown",
   "id": "7f3594d7-9bb6-40f2-b2fd-a1e41f8ea208",
   "metadata": {},
   "source": [
    "Cell below divides data into training and testing sets, random state is set, so the code is reproducable and consistent for \n",
    "each run and does not produce different results"
   ]
  },
  {
   "cell_type": "code",
   "execution_count": 7,
   "id": "7db48f9a-4959-4737-bb64-e263cb6ee817",
   "metadata": {},
   "outputs": [],
   "source": [
    "X = np.array(dogs + cats)\n",
    "y = np.array(dogs_labels + cats_labels)\n",
    "\n",
    "X_train, X_test, y_train, y_test = train_test_split(X, y, test_size=0.2, random_state=42)\n"
   ]
  },
  {
   "cell_type": "code",
   "execution_count": 11,
   "id": "f6c4f290-1177-449e-805b-cb72761a4c02",
   "metadata": {},
   "outputs": [
    {
     "name": "stderr",
     "output_type": "stream",
     "text": [
      "C:\\Users\\mikhe\\anaconda3\\envs\\notebook\\Lib\\site-packages\\sklearn\\linear_model\\_logistic.py:460: ConvergenceWarning: lbfgs failed to converge (status=1):\n",
      "STOP: TOTAL NO. of ITERATIONS REACHED LIMIT.\n",
      "\n",
      "Increase the number of iterations (max_iter) or scale the data as shown in:\n",
      "    https://scikit-learn.org/stable/modules/preprocessing.html\n",
      "Please also refer to the documentation for alternative solver options:\n",
      "    https://scikit-learn.org/stable/modules/linear_model.html#logistic-regression\n",
      "  n_iter_i = _check_optimize_result(\n"
     ]
    },
    {
     "data": {
      "text/html": [
       "<style>#sk-container-id-2 {color: black;}#sk-container-id-2 pre{padding: 0;}#sk-container-id-2 div.sk-toggleable {background-color: white;}#sk-container-id-2 label.sk-toggleable__label {cursor: pointer;display: block;width: 100%;margin-bottom: 0;padding: 0.3em;box-sizing: border-box;text-align: center;}#sk-container-id-2 label.sk-toggleable__label-arrow:before {content: \"▸\";float: left;margin-right: 0.25em;color: #696969;}#sk-container-id-2 label.sk-toggleable__label-arrow:hover:before {color: black;}#sk-container-id-2 div.sk-estimator:hover label.sk-toggleable__label-arrow:before {color: black;}#sk-container-id-2 div.sk-toggleable__content {max-height: 0;max-width: 0;overflow: hidden;text-align: left;background-color: #f0f8ff;}#sk-container-id-2 div.sk-toggleable__content pre {margin: 0.2em;color: black;border-radius: 0.25em;background-color: #f0f8ff;}#sk-container-id-2 input.sk-toggleable__control:checked~div.sk-toggleable__content {max-height: 200px;max-width: 100%;overflow: auto;}#sk-container-id-2 input.sk-toggleable__control:checked~label.sk-toggleable__label-arrow:before {content: \"▾\";}#sk-container-id-2 div.sk-estimator input.sk-toggleable__control:checked~label.sk-toggleable__label {background-color: #d4ebff;}#sk-container-id-2 div.sk-label input.sk-toggleable__control:checked~label.sk-toggleable__label {background-color: #d4ebff;}#sk-container-id-2 input.sk-hidden--visually {border: 0;clip: rect(1px 1px 1px 1px);clip: rect(1px, 1px, 1px, 1px);height: 1px;margin: -1px;overflow: hidden;padding: 0;position: absolute;width: 1px;}#sk-container-id-2 div.sk-estimator {font-family: monospace;background-color: #f0f8ff;border: 1px dotted black;border-radius: 0.25em;box-sizing: border-box;margin-bottom: 0.5em;}#sk-container-id-2 div.sk-estimator:hover {background-color: #d4ebff;}#sk-container-id-2 div.sk-parallel-item::after {content: \"\";width: 100%;border-bottom: 1px solid gray;flex-grow: 1;}#sk-container-id-2 div.sk-label:hover label.sk-toggleable__label {background-color: #d4ebff;}#sk-container-id-2 div.sk-serial::before {content: \"\";position: absolute;border-left: 1px solid gray;box-sizing: border-box;top: 0;bottom: 0;left: 50%;z-index: 0;}#sk-container-id-2 div.sk-serial {display: flex;flex-direction: column;align-items: center;background-color: white;padding-right: 0.2em;padding-left: 0.2em;position: relative;}#sk-container-id-2 div.sk-item {position: relative;z-index: 1;}#sk-container-id-2 div.sk-parallel {display: flex;align-items: stretch;justify-content: center;background-color: white;position: relative;}#sk-container-id-2 div.sk-item::before, #sk-container-id-2 div.sk-parallel-item::before {content: \"\";position: absolute;border-left: 1px solid gray;box-sizing: border-box;top: 0;bottom: 0;left: 50%;z-index: -1;}#sk-container-id-2 div.sk-parallel-item {display: flex;flex-direction: column;z-index: 1;position: relative;background-color: white;}#sk-container-id-2 div.sk-parallel-item:first-child::after {align-self: flex-end;width: 50%;}#sk-container-id-2 div.sk-parallel-item:last-child::after {align-self: flex-start;width: 50%;}#sk-container-id-2 div.sk-parallel-item:only-child::after {width: 0;}#sk-container-id-2 div.sk-dashed-wrapped {border: 1px dashed gray;margin: 0 0.4em 0.5em 0.4em;box-sizing: border-box;padding-bottom: 0.4em;background-color: white;}#sk-container-id-2 div.sk-label label {font-family: monospace;font-weight: bold;display: inline-block;line-height: 1.2em;}#sk-container-id-2 div.sk-label-container {text-align: center;}#sk-container-id-2 div.sk-container {/* jupyter's `normalize.less` sets `[hidden] { display: none; }` but bootstrap.min.css set `[hidden] { display: none !important; }` so we also need the `!important` here to be able to override the default hidden behavior on the sphinx rendered scikit-learn.org. See: https://github.com/scikit-learn/scikit-learn/issues/21755 */display: inline-block !important;position: relative;}#sk-container-id-2 div.sk-text-repr-fallback {display: none;}</style><div id=\"sk-container-id-2\" class=\"sk-top-container\"><div class=\"sk-text-repr-fallback\"><pre>LogisticRegression(max_iter=1000)</pre><b>In a Jupyter environment, please rerun this cell to show the HTML representation or trust the notebook. <br />On GitHub, the HTML representation is unable to render, please try loading this page with nbviewer.org.</b></div><div class=\"sk-container\" hidden><div class=\"sk-item\"><div class=\"sk-estimator sk-toggleable\"><input class=\"sk-toggleable__control sk-hidden--visually\" id=\"sk-estimator-id-2\" type=\"checkbox\" checked><label for=\"sk-estimator-id-2\" class=\"sk-toggleable__label sk-toggleable__label-arrow\">LogisticRegression</label><div class=\"sk-toggleable__content\"><pre>LogisticRegression(max_iter=1000)</pre></div></div></div></div></div>"
      ],
      "text/plain": [
       "LogisticRegression(max_iter=1000)"
      ]
     },
     "execution_count": 11,
     "metadata": {},
     "output_type": "execute_result"
    }
   ],
   "source": [
    "from sklearn.linear_model import LogisticRegression\n",
    "\n",
    "logistic_model = LogisticRegression(max_iter = 1000)\n",
    "logistic_model.fit(X_train,y_train)"
   ]
  },
  {
   "cell_type": "markdown",
   "id": "7028ac9d-c0a8-4d8a-a575-fe5941c52c91",
   "metadata": {},
   "source": [
    "As seen from the warning, model could not converge, so we expect poor results,\n",
    "even though we incerased number of max iterations"
   ]
  },
  {
   "cell_type": "markdown",
   "id": "48e7af37-7daa-4322-83a6-928747411cb5",
   "metadata": {},
   "source": [
    "So, let us see how this model performed"
   ]
  },
  {
   "cell_type": "code",
   "execution_count": 8,
   "id": "cf012e0a-3db1-4a10-9ded-68a47f904edf",
   "metadata": {},
   "outputs": [],
   "source": [
    "from sklearn.metrics import accuracy_score,recall_score,precision_score, f1_score"
   ]
  },
  {
   "cell_type": "code",
   "execution_count": 15,
   "id": "85f29671-4422-4bf1-9754-cb61a9fdbaec",
   "metadata": {},
   "outputs": [],
   "source": [
    "Y_predicted = logistic_model.predict(X_train)"
   ]
  },
  {
   "cell_type": "code",
   "execution_count": 21,
   "id": "0e370374-dc0b-46cf-9888-fb038e65cc33",
   "metadata": {},
   "outputs": [
    {
     "name": "stdout",
     "output_type": "stream",
     "text": [
      "Accuracy: 0.8305067737079779\n",
      "Precision: 0.8243120653159963\n",
      "Recall: 0.8333842861510241\n",
      "F1-score: 0.8288233505624809\n"
     ]
    }
   ],
   "source": [
    "accuracy_logistic = accuracy_score(Y_predicted,y_train)\n",
    "precision_logistic = precision_score(Y_predicted,y_train)\n",
    "recall_logistic = recall_score(Y_predicted,y_train)\n",
    "f1_logistic = f1_score(Y_predicted,y_train)\n",
    "print(f'Accuracy: {accuracy_logistic}')\n",
    "print(f'Precision: {precision_logistic}')\n",
    "print(f'Recall: {recall_logistic}')\n",
    "print(f'F1-score: {f1_logistic}')"
   ]
  },
  {
   "cell_type": "markdown",
   "id": "8204262b-216e-4a54-833e-861a6415ec23",
   "metadata": {},
   "source": [
    "\n",
    "\n",
    "As we see from the results, model performance is not so poor on the training set\n",
    "\n",
    "Now, let us see how it performs on the test set\n"
   ]
  },
  {
   "cell_type": "code",
   "execution_count": 22,
   "id": "147587b9-b895-428c-be6f-6cbf1cb244a3",
   "metadata": {},
   "outputs": [],
   "source": [
    "Y_predicted_test = logistic_model.predict(X_test)"
   ]
  },
  {
   "cell_type": "code",
   "execution_count": 23,
   "id": "d5e4be9c-68fb-4d60-affa-36d96b53d6c6",
   "metadata": {},
   "outputs": [
    {
     "name": "stdout",
     "output_type": "stream",
     "text": [
      "Accuracy: 0.5695364238410596\n",
      "Precision: 0.5513277843836702\n",
      "Recall: 0.5786189683860233\n",
      "F1-score: 0.5646437994722956\n"
     ]
    }
   ],
   "source": [
    "accuracy_logistic = accuracy_score(Y_predicted_test,y_test)\n",
    "precision_logistic = precision_score(Y_predicted_test,y_test)\n",
    "recall_logistic = recall_score(Y_predicted_test,y_test)\n",
    "f1_logistic = f1_score(Y_predicted_test,y_test)\n",
    "print(f'Accuracy: {accuracy_logistic}')\n",
    "print(f'Precision: {precision_logistic}')\n",
    "print(f'Recall: {recall_logistic}')\n",
    "print(f'F1-score: {f1_logistic}')"
   ]
  },
  {
   "cell_type": "markdown",
   "id": "48a6b15f-a702-4528-8b31-9879c5930d91",
   "metadata": {},
   "source": [
    "#### As we see, logistic regression model performed very poorly on the test set, berely above the random guessing,\n",
    "#### so it is not suitable for this classification task."
   ]
  },
  {
   "cell_type": "code",
   "execution_count": 32,
   "id": "16deef58-9415-48a5-af20-272de85eca24",
   "metadata": {},
   "outputs": [
    {
     "data": {
      "image/png": "[encoded data removed]",
      "text/plain": [
       "<Figure size 500x500 with 2 Axes>"
      ]
     },
     "metadata": {},
     "output_type": "display_data"
    }
   ],
   "source": [
    "from sklearn.metrics import confusion_matrix, classification_report\n",
    "import matplotlib.pyplot as plt\n",
    "import seaborn as sns\n",
    "\n",
    "cm = confusion_matrix(y_test, Y_predicted_test)\n",
    "\n",
    "# Visualize confusion matrix\n",
    "plt.figure(figsize=(5,5))\n",
    "sns.heatmap(cm, annot=True, fmt=\".0f\", linewidths=.5, square = True, cmap = 'Blues_r');\n",
    "plt.ylabel('Actual label');\n",
    "plt.xlabel('Predicted label');\n",
    "plt.title('Confusion Matrix', size = 15);"
   ]
  },
  {
   "cell_type": "markdown",
   "id": "cf701826-8d01-4642-bcd2-ae3b9a94155c",
   "metadata": {},
   "source": [
    "As seen from the confusion matrix above which was made based on model's performance on the test set,\n",
    "results are very close to each other for each cell, indicated that model's performance is magrinally better than \n",
    "the random guessing"
   ]
  },
  {
   "cell_type": "markdown",
   "id": "07425255-9b62-44ca-aa76-b78220eff639",
   "metadata": {},
   "source": [
    "##### Now let us try random forest classifier and see how it performs on our dataset"
   ]
  },
  {
   "cell_type": "code",
   "execution_count": 29,
   "id": "74b3729b-ae2a-44e6-be80-facde3893971",
   "metadata": {},
   "outputs": [
    {
     "data": {
      "text/html": [
       "<style>#sk-container-id-4 {color: black;}#sk-container-id-4 pre{padding: 0;}#sk-container-id-4 div.sk-toggleable {background-color: white;}#sk-container-id-4 label.sk-toggleable__label {cursor: pointer;display: block;width: 100%;margin-bottom: 0;padding: 0.3em;box-sizing: border-box;text-align: center;}#sk-container-id-4 label.sk-toggleable__label-arrow:before {content: \"▸\";float: left;margin-right: 0.25em;color: #696969;}#sk-container-id-4 label.sk-toggleable__label-arrow:hover:before {color: black;}#sk-container-id-4 div.sk-estimator:hover label.sk-toggleable__label-arrow:before {color: black;}#sk-container-id-4 div.sk-toggleable__content {max-height: 0;max-width: 0;overflow: hidden;text-align: left;background-color: #f0f8ff;}#sk-container-id-4 div.sk-toggleable__content pre {margin: 0.2em;color: black;border-radius: 0.25em;background-color: #f0f8ff;}#sk-container-id-4 input.sk-toggleable__control:checked~div.sk-toggleable__content {max-height: 200px;max-width: 100%;overflow: auto;}#sk-container-id-4 input.sk-toggleable__control:checked~label.sk-toggleable__label-arrow:before {content: \"▾\";}#sk-container-id-4 div.sk-estimator input.sk-toggleable__control:checked~label.sk-toggleable__label {background-color: #d4ebff;}#sk-container-id-4 div.sk-label input.sk-toggleable__control:checked~label.sk-toggleable__label {background-color: #d4ebff;}#sk-container-id-4 input.sk-hidden--visually {border: 0;clip: rect(1px 1px 1px 1px);clip: rect(1px, 1px, 1px, 1px);height: 1px;margin: -1px;overflow: hidden;padding: 0;position: absolute;width: 1px;}#sk-container-id-4 div.sk-estimator {font-family: monospace;background-color: #f0f8ff;border: 1px dotted black;border-radius: 0.25em;box-sizing: border-box;margin-bottom: 0.5em;}#sk-container-id-4 div.sk-estimator:hover {background-color: #d4ebff;}#sk-container-id-4 div.sk-parallel-item::after {content: \"\";width: 100%;border-bottom: 1px solid gray;flex-grow: 1;}#sk-container-id-4 div.sk-label:hover label.sk-toggleable__label {background-color: #d4ebff;}#sk-container-id-4 div.sk-serial::before {content: \"\";position: absolute;border-left: 1px solid gray;box-sizing: border-box;top: 0;bottom: 0;left: 50%;z-index: 0;}#sk-container-id-4 div.sk-serial {display: flex;flex-direction: column;align-items: center;background-color: white;padding-right: 0.2em;padding-left: 0.2em;position: relative;}#sk-container-id-4 div.sk-item {position: relative;z-index: 1;}#sk-container-id-4 div.sk-parallel {display: flex;align-items: stretch;justify-content: center;background-color: white;position: relative;}#sk-container-id-4 div.sk-item::before, #sk-container-id-4 div.sk-parallel-item::before {content: \"\";position: absolute;border-left: 1px solid gray;box-sizing: border-box;top: 0;bottom: 0;left: 50%;z-index: -1;}#sk-container-id-4 div.sk-parallel-item {display: flex;flex-direction: column;z-index: 1;position: relative;background-color: white;}#sk-container-id-4 div.sk-parallel-item:first-child::after {align-self: flex-end;width: 50%;}#sk-container-id-4 div.sk-parallel-item:last-child::after {align-self: flex-start;width: 50%;}#sk-container-id-4 div.sk-parallel-item:only-child::after {width: 0;}#sk-container-id-4 div.sk-dashed-wrapped {border: 1px dashed gray;margin: 0 0.4em 0.5em 0.4em;box-sizing: border-box;padding-bottom: 0.4em;background-color: white;}#sk-container-id-4 div.sk-label label {font-family: monospace;font-weight: bold;display: inline-block;line-height: 1.2em;}#sk-container-id-4 div.sk-label-container {text-align: center;}#sk-container-id-4 div.sk-container {/* jupyter's `normalize.less` sets `[hidden] { display: none; }` but bootstrap.min.css set `[hidden] { display: none !important; }` so we also need the `!important` here to be able to override the default hidden behavior on the sphinx rendered scikit-learn.org. See: https://github.com/scikit-learn/scikit-learn/issues/21755 */display: inline-block !important;position: relative;}#sk-container-id-4 div.sk-text-repr-fallback {display: none;}</style><div id=\"sk-container-id-4\" class=\"sk-top-container\"><div class=\"sk-text-repr-fallback\"><pre>RandomForestClassifier()</pre><b>In a Jupyter environment, please rerun this cell to show the HTML representation or trust the notebook. <br />On GitHub, the HTML representation is unable to render, please try loading this page with nbviewer.org.</b></div><div class=\"sk-container\" hidden><div class=\"sk-item\"><div class=\"sk-estimator sk-toggleable\"><input class=\"sk-toggleable__control sk-hidden--visually\" id=\"sk-estimator-id-6\" type=\"checkbox\" checked><label for=\"sk-estimator-id-6\" class=\"sk-toggleable__label sk-toggleable__label-arrow\">RandomForestClassifier</label><div class=\"sk-toggleable__content\"><pre>RandomForestClassifier()</pre></div></div></div></div></div>"
      ],
      "text/plain": [
       "RandomForestClassifier()"
      ]
     },
     "execution_count": 29,
     "metadata": {},
     "output_type": "execute_result"
    }
   ],
   "source": [
    "from sklearn.ensemble import RandomForestClassifier\n",
    "\n",
    "random_forest_model = RandomForestClassifier()\n",
    "random_forest_model.fit(X_train,y_train)"
   ]
  },
  {
   "cell_type": "code",
   "execution_count": 30,
   "id": "ee419f37-3400-427f-8c5b-3ed0dafc1903",
   "metadata": {},
   "outputs": [
    {
     "name": "stdout",
     "output_type": "stream",
     "text": [
      "Accuracy: 1.0\n",
      "Precision: 1.0\n",
      "Recall: 1.0\n",
      "F1-score: 1.0\n"
     ]
    }
   ],
   "source": [
    "Y_predicted_forest = random_forest_model.predict(X_train)\n",
    "\n",
    "\n",
    "accuracy_forest = accuracy_score(Y_predicted_forest,y_train)\n",
    "precision_forest = precision_score(Y_predicted_forest,y_train)\n",
    "recall_forest = recall_score(Y_predicted_forest,y_train)\n",
    "f1_forest = f1_score(Y_predicted_forest,y_train)\n",
    "print(f'Accuracy: {accuracy_forest}')\n",
    "print(f'Precision: {precision_forest}')\n",
    "print(f'Recall: {recall_forest}')\n",
    "print(f'F1-score: {f1_forest}')"
   ]
  },
  {
   "cell_type": "markdown",
   "id": "ea0a04bd-ebad-48ae-944f-f3308aef7343",
   "metadata": {},
   "source": [
    "The default random forest classifier, without hyperparameter tuning, perfectly fits the training set,\n",
    "potentially suggesting overfitting and high variance, which may lead to suboptimal performance on the test set.\n",
    "Let us see how it performs on the test set:"
   ]
  },
  {
   "cell_type": "code",
   "execution_count": 31,
   "id": "5bc29a67-b18d-4cee-89bf-bc7ed667f4fa",
   "metadata": {},
   "outputs": [
    {
     "name": "stdout",
     "output_type": "stream",
     "text": [
      "Accuracy: 0.6431868352398153\n",
      "Precision: 0.5866032500990884\n",
      "Recall: 0.6681715575620768\n",
      "F1-score: 0.6247361756015196\n"
     ]
    }
   ],
   "source": [
    "Y_test_forest = random_forest_model.predict(X_test)\n",
    "\n",
    "\n",
    "accuracy_forest = accuracy_score(Y_test_forest,y_test)\n",
    "precision_forest = precision_score(Y_test_forest,y_test)\n",
    "recall_forest = recall_score(Y_test_forest,y_test)\n",
    "f1_forest = f1_score(Y_test_forest,y_test)\n",
    "print(f'Accuracy: {accuracy_forest}')\n",
    "print(f'Precision: {precision_forest}')\n",
    "print(f'Recall: {recall_forest}')\n",
    "print(f'F1-score: {f1_forest}')"
   ]
  },
  {
   "cell_type": "code",
   "execution_count": 36,
   "id": "dd375f9f-3a33-4c76-81d3-8d318391ba56",
   "metadata": {},
   "outputs": [
    {
     "data": {
      "image/png": "[encoded data removed]",
      "text/plain": [
       "<Figure size 500x500 with 2 Axes>"
      ]
     },
     "metadata": {},
     "output_type": "display_data"
    }
   ],
   "source": [
    "cm_forest = confusion_matrix(y_test, Y_test_forest)\n",
    "\n",
    "# Visualize confusion matrix\n",
    "plt.figure(figsize=(5,5))\n",
    "sns.heatmap(cm_forest, annot=True, fmt=\".0f\", linewidths=.5, square = True, cmap = 'Blues_r');\n",
    "plt.ylabel('Actual label');\n",
    "plt.xlabel('Predicted label');\n",
    "plt.title('Confusion Matrix', size = 15);"
   ]
  },
  {
   "cell_type": "markdown",
   "id": "b26bd5a9-ffeb-4553-aa30-7539a2e28a45",
   "metadata": {},
   "source": [
    "## Part 2 \n",
    "### In the subsequent phase of the project, we will explore the application of deep learning techniques for image classification."
   ]
  },
  {
   "cell_type": "code",
   "execution_count": 9,
   "id": "a3563e34-02d2-419d-87ef-24d19239a2bf",
   "metadata": {},
   "outputs": [
    {
     "name": "stdout",
     "output_type": "stream",
     "text": [
      "Found 19819 images belonging to 2 classes.\n",
      "Found 3390 images belonging to 2 classes.\n",
      "Found 1750 images belonging to 2 classes.\n"
     ]
    }
   ],
   "source": [
    "# I will use keras library for this purpose\n",
    "\n",
    "from keras.preprocessing.image import ImageDataGenerator\n",
    "\n",
    "# Define data generators for training, validation, and testing\n",
    "train_datagen = ImageDataGenerator(rescale=1./255)  # Rescaling pixel values to [0, 1]\n",
    "validation_datagen = ImageDataGenerator(rescale=1./255) \n",
    "test_datagen = ImageDataGenerator(rescale=1./255) \n",
    "\n",
    "# Load and augment training images from the specified directory\n",
    "train_generator = train_datagen.flow_from_directory(\n",
    "    'C:/Users/mikhe/OneDrive/Desktop/data/train',\n",
    "    target_size=(150, 150),  # Resize images to 150x150 pixels\n",
    "    batch_size=20,  # Batch size for training\n",
    "    class_mode='binary'  # Binary classification for cat vs. dog\n",
    ")\n",
    "\n",
    "# Load validation images from the specified directory\n",
    "validation_generator = validation_datagen.flow_from_directory(\n",
    "    'C:/Users/mikhe/OneDrive/Desktop/data/validation',\n",
    "    target_size=(150, 150),  \n",
    "    batch_size=20, \n",
    "    class_mode='binary' \n",
    ")\n",
    "\n",
    "# Load test images from the specified directory\n",
    "test_generator = test_datagen.flow_from_directory(\n",
    "    'C:/Users/mikhe/OneDrive/Desktop/data/test',\n",
    "    target_size=(150, 150), \n",
    "    batch_size=20, \n",
    "    class_mode='binary' \n",
    ")\n"
   ]
  },
  {
   "cell_type": "markdown",
   "id": "ee5f29e7-49b7-4091-8453-0844f38278c7",
   "metadata": {},
   "source": [
    "#### Building neural network"
   ]
  },
  {
   "cell_type": "markdown",
   "id": "0755aef4-0f73-47f2-aa3d-515256a740e5",
   "metadata": {},
   "source": [
    "One common approach to classify images using deep learning is to use a Convolutional Neural Network (CNN), a type of deep learning model that’s particularly good at processing images.\n",
    "However, training a CNN from scratch requires a lot of data and computational resources, and it might not always be feasible, so I will use pre-trained model. These are models that have already been trained on large datasets and have learned to extract useful features from images. By using a pre-trained model, we can leverage the knowledge it has already gained, and adapt it to our specific task. This is a process known as transfer learning.\n",
    "\n",
    "In this case, we’re using the VGG16 model, which has been pre-trained on the ImageNet dataset. We load the model, but exclude its top layers because those are the ones most specific to the task it was originally trained on (i.e., classifying images into 1000 categories). Instead, we’re going to add our own top layers that are more suited to our binary classification problem.\n",
    "\n",
    "We start by freezing the base model layers. This means their weights will not be updated during training, and we’ll keep the features they’ve already learned.\n",
    "\n",
    "Next, we add our own layers:\n",
    "\n",
    "A Flatten layer to convert the feature maps from the base model into a 1D array.\n",
    "A Dense layer with 1024 units and ReLU activation function for our hidden layer.\n",
    "A Dropout layer for regularization, to prevent overfitting.\n",
    "Another Dense layer with 1 unit and a sigmoid activation function for our output layer, perfect for a binary classification problem.\n",
    "We then compile our model with the RMSprop optimizer and binary cross-entropy loss function, suitable for binary classification. We also choose to monitor accuracy during training.\n",
    "\n",
    "Finally, we fit our model to our data, using a certain number of steps per epoch.\n",
    "\n",
    "By using this approach, we’re hoping to create a model that can accurately classify images as dogs or cats, even if we don’t have a huge amount of labeled data or the resources to train a complex model from scratch."
   ]
  },
  {
   "cell_type": "code",
   "execution_count": 16,
   "id": "0ad3f8f0-d988-4030-811d-b436677442a3",
   "metadata": {},
   "outputs": [
    {
     "name": "stdout",
     "output_type": "stream",
     "text": [
      "Epoch 1/10\n",
      "200/200 [==============================] - 293s 1s/step - loss: 0.3907 - accuracy: 0.8215 - val_loss: 0.2454 - val_accuracy: 0.8910\n",
      "Epoch 2/10\n",
      "200/200 [==============================] - 308s 2s/step - loss: 0.3130 - accuracy: 0.8630 - val_loss: 0.2733 - val_accuracy: 0.8820\n",
      "Epoch 3/10\n",
      "200/200 [==============================] - 310s 2s/step - loss: 0.2584 - accuracy: 0.8940 - val_loss: 0.3248 - val_accuracy: 0.8710\n",
      "Epoch 4/10\n",
      "200/200 [==============================] - 316s 2s/step - loss: 0.2729 - accuracy: 0.8878 - val_loss: 0.2097 - val_accuracy: 0.9010\n",
      "Epoch 5/10\n",
      "200/200 [==============================] - 312s 2s/step - loss: 0.2361 - accuracy: 0.8980 - val_loss: 0.2213 - val_accuracy: 0.9040\n",
      "Epoch 6/10\n",
      "200/200 [==============================] - 314s 2s/step - loss: 0.2342 - accuracy: 0.9005 - val_loss: 0.2162 - val_accuracy: 0.9190\n",
      "Epoch 7/10\n",
      "200/200 [==============================] - 313s 2s/step - loss: 0.2230 - accuracy: 0.9115 - val_loss: 0.2207 - val_accuracy: 0.9040\n",
      "Epoch 8/10\n",
      "200/200 [==============================] - 311s 2s/step - loss: 0.2254 - accuracy: 0.9093 - val_loss: 0.2016 - val_accuracy: 0.9210\n",
      "Epoch 9/10\n",
      "200/200 [==============================] - 391s 2s/step - loss: 0.2118 - accuracy: 0.9140 - val_loss: 0.1803 - val_accuracy: 0.9250\n",
      "Epoch 10/10\n",
      "200/200 [==============================] - 387s 2s/step - loss: 0.2096 - accuracy: 0.9125 - val_loss: 0.2405 - val_accuracy: 0.9060\n"
     ]
    }
   ],
   "source": [
    "from keras.applications import VGG16\n",
    "from keras import models\n",
    "from keras import layers\n",
    "from keras import optimizers\n",
    "from keras.models import Sequential\n",
    "from keras.layers import Flatten, Dense, Dropout\n",
    "\n",
    "# Load the VGG model\n",
    "base_model = VGG16(weights='imagenet', include_top=False, input_shape=(150, 150, 3))\n",
    "\n",
    "# Freeze the layers\n",
    "for layer in base_model.layers:\n",
    "    layer.trainable = False\n",
    "\n",
    "# Create your own model \n",
    "model = models.Sequential()\n",
    "model.add(base_model)\n",
    "\n",
    "# Add new layers\n",
    "model.add(layers.Flatten())\n",
    "model.add(layers.Dense(1024, activation='relu'))\n",
    "model.add(layers.Dropout(0.5))\n",
    "model.add(layers.Dense(1, activation='sigmoid'))\n",
    "\n",
    "# Compile the model\n",
    "model.compile(loss='binary_crossentropy',\n",
    "              optimizer=optimizers.RMSprop(learning_rate=1e-4),\n",
    "              metrics=['accuracy'])\n",
    "\n",
    "# Set steps per epoch\n",
    "steps_per_epoch = 200\n",
    "\n",
    "# Now fit the model\n",
    "history = model.fit(\n",
    "    train_generator,\n",
    "    steps_per_epoch=steps_per_epoch,\n",
    "    epochs=10,\n",
    "    validation_data=validation_generator,\n",
    "    validation_steps=50)\n"
   ]
  },
  {
   "cell_type": "code",
   "execution_count": 18,
   "id": "4055a1a9-1712-4568-ba35-3e15d66fd054",
   "metadata": {},
   "outputs": [],
   "source": [
    "# Save the model\n",
    "model.save('cats_vs_dogs.keras')\n"
   ]
  },
  {
   "cell_type": "code",
   "execution_count": 27,
   "id": "598c8390-dc3b-4b4e-a49b-23177ca89350",
   "metadata": {},
   "outputs": [
    {
     "name": "stdout",
     "output_type": "stream",
     "text": [
      "361/991 [=========>....................] - ETA: 17:07 - loss: 0.1988 - accuracy: 0.9180"
     ]
    },
    {
     "name": "stderr",
     "output_type": "stream",
     "text": [
      "C:\\Users\\mikhe\\anaconda3\\envs\\notebook\\Lib\\site-packages\\PIL\\TiffImagePlugin.py:870: UserWarning: Truncated File Read\n",
      "  warnings.warn(str(msg))\n"
     ]
    },
    {
     "name": "stdout",
     "output_type": "stream",
     "text": [
      "991/991 [==============================] - 1764s 2s/step - loss: 0.1971 - accuracy: 0.9181\n",
      "Test accuracy: 0.918058454990387\n"
     ]
    }
   ],
   "source": [
    "# Model performance on the train data\n",
    "train_loss, train_acc = model.evaluate(train_generator)\n",
    "\n",
    "print('Train accuracy:', train_acc)\n"
   ]
  },
  {
   "cell_type": "markdown",
   "id": "177d1ba3-5007-48c4-8ae8-325ab97f2ab3",
   "metadata": {},
   "source": [
    "__note__ : there is a typo in output above, it should be \"Train accuracy: 0.918058454990387\", __not__ \"Test accuracy: 0.918058454990387\". \n",
    "To save time and resources I did not run the notebook again."
   ]
  },
  {
   "cell_type": "code",
   "execution_count": 19,
   "id": "5dc2688b-ec60-41d4-8864-76c5595cc505",
   "metadata": {},
   "outputs": [
    {
     "name": "stdout",
     "output_type": "stream",
     "text": [
      "88/88 [==============================] - 95s 1s/step - loss: 0.2326 - accuracy: 0.9097\n",
      "Test accuracy: 0.9097142815589905\n"
     ]
    }
   ],
   "source": [
    "# Model performance on the test data\n",
    "test_loss, test_acc = model.evaluate(test_generator)\n",
    "\n",
    "print('Test accuracy:', test_acc)\n"
   ]
  },
  {
   "cell_type": "code",
   "execution_count": 21,
   "id": "3da2f5e9-fe1c-4ce2-8ed2-57385481c86c",
   "metadata": {},
   "outputs": [
    {
     "name": "stdout",
     "output_type": "stream",
     "text": [
      "170/170 [==============================] - 231s 1s/step - loss: 0.2309 - accuracy: 0.9050\n",
      "Validation accuracy: 0.9050147533416748\n"
     ]
    }
   ],
   "source": [
    "# Model performance on the validation data\n",
    "valid_loss, valid_acc = model.evaluate(validation_generator)\n",
    "\n",
    "print('Validation accuracy:', valid_acc)\n"
   ]
  },
  {
   "cell_type": "markdown",
   "id": "e10c83cc-60c0-4ebf-a2f9-e4013b215fc4",
   "metadata": {},
   "source": [
    "As we see, train accuracy is 91.8% . \n",
    "This result is much better than the results we got using \n",
    "\n",
    "Validation and test accuracies are 90.5% and 90.97%, respectively, also a huge improvement.\n",
    "Accuracy values for training and test sets are close, thus we have low variance, but bias remains high."
   ]
  },
  {
   "cell_type": "markdown",
   "id": "513279dc-88ba-43be-a81b-ade7b22d3977",
   "metadata": {},
   "source": [
    "##### Visualize loss and accuracy"
   ]
  },
  {
   "cell_type": "code",
   "execution_count": 26,
   "id": "01a33c97-fe66-432a-a73c-9d88a95788c6",
   "metadata": {},
   "outputs": [
    {
     "data": {
      "image/png": "[encoded data removed]",
      "text/plain": [
       "<Figure size 640x480 with 2 Axes>"
      ]
     },
     "metadata": {},
     "output_type": "display_data"
    }
   ],
   "source": [
    "import matplotlib.pyplot as plt\n",
    "\n",
    "# Retrieve a list of accuracy results on training and validation data sets for each training epoch\n",
    "acc = history.history['accuracy']\n",
    "val_acc = history.history['val_accuracy']\n",
    "\n",
    "# Retrieve a list of list results on training and validation data sets for each training epoch\n",
    "loss = history.history['loss']\n",
    "val_loss = history.history['val_loss']\n",
    "\n",
    "# Get number of epochs\n",
    "epochs = range(len(acc))\n",
    "\n",
    "# Create two subplots\n",
    "fig, axs = plt.subplots(2)\n",
    "\n",
    "# Plot training and validation accuracy per epoch\n",
    "axs[0].plot(epochs, acc, label='Training accuracy')\n",
    "axs[0].plot(epochs, val_acc, label='Validation accuracy')\n",
    "axs[0].set_title('Training and validation accuracy')\n",
    "axs[0].legend()\n",
    "\n",
    "# Plot training and validation loss per epoch\n",
    "axs[1].plot(epochs, loss, label='Training loss')\n",
    "axs[1].plot(epochs, val_loss, label='Validation loss')\n",
    "axs[1].set_title('Training and validation loss')\n",
    "axs[1].legend()\n",
    "\n",
    "plt.tight_layout()\n"
   ]
  },
  {
   "cell_type": "markdown",
   "id": "3f5cb667-446d-4841-93c5-a4d0c392c7ce",
   "metadata": {},
   "source": [
    "We note that both, training accuracy and training loss steadily goes down after each epoch, but validation loss and accuracy\n",
    "is much more volatile (but still goes down as number of epochs increase). Based on those graphs and accuracy values observed above \n",
    "we can conclude that our model underfits data, it is too simple, does not capture all the relevant patterns in the training data, leading to poor performance on both the training and validation/test sets.\n"
   ]
  },
  {
   "cell_type": "markdown",
   "id": "e4353b7e-2493-4648-9bbf-e79e901df6aa",
   "metadata": {},
   "source": [
    "## Conclusion\n",
    "\n",
    "This project explored the application of various machine learning models, including Logistic Regression, Random Forest, and a pre-trained Convolutional Neural Network (CNN) model, VGG16, for the task of image classification on a dataset of cat and dog images.\n",
    "\n",
    "- **Logistic Regression**: This model, while simple and fast, struggled with the high dimensionality and complexity inherent in image data. Each pixel in an image can be considered a separate feature, leading to thousands of features even for relatively small images. As a linear model, Logistic Regression may struggle to find a suitable decision boundary in such a high-dimensional space. While it serves as a good baseline for many binary classification tasks, this project underscores the importance of model selection in relation to data complexity.\n",
    "\n",
    "- **Random Forest**: The default Random Forest model severely overfitted the data. To mitigate this, hyperparameters such as `n_estimators` (the number of trees in the forest), `max_depth` (the maximum depth of the tree), `min_samples_split` (the minimum number of samples required to split an internal node), and `min_samples_leaf` (the minimum number of samples required to be at a leaf node) could be tuned. Techniques like Grid Search or Random Search can be employed to find the optimal values for these hyperparameters.\n",
    "\n",
    "- **VGG16**: The pre-trained CNN model, VGG16, performed the best among the three models. However, it still underfitted the data, indicating the model's simplicity. Potential solutions include increasing model complexity and unfreezing some layers of the VGG16 model. Currently, all the layers in the VGG16 model are frozen, meaning their weights are not updated during training. Unfreezing the last few layers of the VGG16 model would allow these layers to update during training, potentially improving the model’s performance.\n",
    "\n",
    "In conclusion, this project demonstrates the importance of understanding the characteristics of the data and choosing an appropriate model accordingly. It also highlights the need for proper model tuning to prevent overfitting or underfitting.\n",
    "\n",
    "Thank you for following along with this project!\n"
   ]
  }
 ],
 "metadata": {
  "kernelspec": {
   "display_name": "Python 3 (ipykernel)",
   "language": "python",
   "name": "python3"
  },
  "language_info": {
   "codemirror_mode": {
    "name": "ipython",
    "version": 3
   },
   "file_extension": ".py",
   "mimetype": "text/x-python",
   "name": "python",
   "nbconvert_exporter": "python",
   "pygments_lexer": "ipython3",
   "version": "3.11.5"
  }
 },
 "nbformat": 4,
 "nbformat_minor": 5
}
